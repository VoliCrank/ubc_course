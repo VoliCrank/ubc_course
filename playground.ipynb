{
 "cells": [
  {
   "cell_type": "code",
   "execution_count": 1,
   "id": "af79689c-bfb9-45d0-9402-6be42048844f",
   "metadata": {},
   "outputs": [],
   "source": [
    "import selenium\n",
    "from selenium import webdriver\n",
    "from selenium.webdriver.chrome.service import Service\n",
    "from selenium.webdriver.common.keys import Keys\n",
    "from selenium.webdriver.common.by import By\n",
    "import pandas as pd\n",
    "import time \n",
    "import smtplib\n",
    "from dotenv import load_dotenv   #for python-dotenv method\n",
    "import os"
   ]
  },
  {
   "cell_type": "code",
   "execution_count": 2,
   "id": "5a03cfe4-d99e-4c43-96f0-5248d8591de1",
   "metadata": {},
   "outputs": [
    {
     "data": {
      "text/plain": [
       "True"
      ]
     },
     "execution_count": 2,
     "metadata": {},
     "output_type": "execute_result"
    }
   ],
   "source": [
    "env_path = os.getcwd() + '\\\\creds.env'\n",
    "load_dotenv(dotenv_path=env_path)"
   ]
  },
  {
   "cell_type": "code",
   "execution_count": 3,
   "id": "f899d42e-6007-4e7f-b496-3904c108c1c4",
   "metadata": {},
   "outputs": [],
   "source": [
    "# email address and pw of the program\n",
    "# change as needed\n",
    "gmail_user = os.environ.get('gmail_user')\n",
    "gmail_password = os.environ.get('gmail_password')\n",
    "\n",
    "# the email addresses that you'd like to notify\n",
    "recipients = ['someemail@gmail.com']\n",
    "\n",
    "# your cwl and pw\n",
    "cwl = os.environ.get('cwl')\n",
    "pw = os.environ.get('pw')\n",
    "wait_time = 30\n",
    "# something that looks like 'https://courses.students.ubc.ca/cs/courseschedule?pname=subjarea&tname=subj-section&dept=ECON&course=102&section=001' ie a webpage with the option of clicking register\n",
    "course_url = 'https://courses.students.ubc.ca/cs/courseschedule?pname=subjarea&tname=subj-section&dept=MATH&course=419&section=201'"
   ]
  },
  {
   "cell_type": "code",
   "execution_count": 4,
   "id": "1ebdb061-5965-4b64-8db4-334f0bfb39df",
   "metadata": {},
   "outputs": [],
   "source": [
    "# whether to send email notification of registration success\n",
    "notify = True"
   ]
  },
  {
   "cell_type": "code",
   "execution_count": 5,
   "id": "5f8f77b6-d07b-4f29-9241-69e2a3876c1b",
   "metadata": {},
   "outputs": [],
   "source": [
    "def notify_me(txt):\n",
    "    sent_from = gmail_user\n",
    "    to = recipients\n",
    "    subject = 'Course registration ' + txt\n",
    "    body = course_url\n",
    "\n",
    "    email_text = \"\"\"\\\n",
    "From: %s\n",
    "To: %s\n",
    "Subject: %s\n",
    "\n",
    "%s\n",
    "\"\"\" % (sent_from, \", \".join(to), subject, body)\n",
    "    print(email_text)\n",
    "\n",
    "    try:\n",
    "        smtp_server = smtplib.SMTP_SSL('smtp.gmail.com', 465)\n",
    "        smtp_server.ehlo()\n",
    "        smtp_server.login(gmail_user, gmail_password)\n",
    "        smtp_server.sendmail(sent_from, to, email_text)\n",
    "        smtp_server.close()\n",
    "        print (\"Email sent successfully!\")\n",
    "    except Exception as ex:\n",
    "        print (\"Something went wrong….\",ex)"
   ]
  },
  {
   "cell_type": "code",
   "execution_count": 6,
   "id": "4ed9a3a9-c7f8-47bc-8265-903f95197512",
   "metadata": {},
   "outputs": [],
   "source": [
    "# see https://stackoverflow.com/questions/42478591/python-selenium-chrome-webdriver if running into trouble\n",
    "# update path to chromedriver\n",
    "chromedriver = Service('C:\\\\chromedriver.exe')\n",
    "browser = webdriver.Chrome(service = chromedriver, options = webdriver.ChromeOptions())\n",
    "browser.get(course_url)"
   ]
  },
  {
   "cell_type": "code",
   "execution_count": 9,
   "id": "0cc326dd-9d8d-4aef-941a-6063cbd6d29c",
   "metadata": {},
   "outputs": [],
   "source": [
    "# login cwl, must do this if have two factor auth\n",
    "def login_cwl():\n",
    "    browser.switch_to.window(browser.window_handles[0])\n",
    "    browser.execute_script('''window.open(\"https://cas.id.ubc.ca/ubc-cas/login?TARGET=https%3A%2F%2Fcourses.students.ubc.ca%2Fcs%2Fsecure%2Flogin%3FIMGSUBMIT.x%3D72%26IMGSUBMIT.y%3D15\",\"_blank\");''')\n",
    "    browser.switch_to.window(browser.window_handles[-1])\n",
    "    cwlfield = browser.find_element(By.ID, 'username')\n",
    "    pwfield = browser.find_element(By.ID, 'password')\n",
    "    cwlfield.clear()\n",
    "    cwlfield.send_keys(cwl)\n",
    "    pwfield.clear()\n",
    "    pwfield.send_keys(pw)\n",
    "    browser.find_element(By.NAME, 'submit').click()\n",
    "\n",
    "    \n",
    "# goes to specified url for the course and clicks register section\n",
    "def register_course():\n",
    "    try:\n",
    "        login_cwl()\n",
    "    except Exception as ex:\n",
    "        print('cwl probably logged in')\n",
    "    time.sleep(5)\n",
    "    # replace link with course_url here\n",
    "    browser.execute_script('''window.open('https://courses.students.ubc.ca/cs/courseschedule?pname=subjarea&tname=subj-section&dept=MATH&course=419&section=201',\"_blank\");''')\n",
    "    browser.close()\n",
    "    browser.switch_to.window(browser.window_handles[-1])\n",
    "    browser.find_element(By.XPATH, '/html/body/div[2]/div[4]/a[2]').click()\n",
    "    \n",
    "    \n",
    "# check if registration is successful\n",
    "def check_status():\n",
    "    msg = browser.find_element(By.XPATH, '/html/body/div[2]/div[4]/div[2]/b').text\n",
    "    browser.close()\n",
    "    browser.switch_to.window(browser.window_handles[0])\n",
    "    print(msg)\n",
    "    if 'Unsuccessful' in msg:\n",
    "        return False\n",
    "    return True\n",
    "\n",
    "\n",
    "# returns the number of general seats remaining\n",
    "def find_seat():\n",
    "    seat_name = browser.find_element(By.XPATH, '/html/body/div[2]/div[4]/table[4]/tbody/tr[3]/td[1]').text\n",
    "    # checks that we are indeed checking for general seats and not something random\n",
    "    assert(seat_name == 'General Seats Remaining:')\n",
    "    table_id = browser.find_element(By.XPATH, '/html/body/div[2]/div[4]/table[4]/tbody/tr[3]/td[2]')\n",
    "    return int(table_id.text)\n",
    "\n",
    "\n",
    "# idk how to fix this, not used\n",
    "def logout_cwl():\n",
    "    browser.find_element(By.ID, 'cwl-logout').click()\n",
    "    driver.close()\n",
    "    browser.switch_to.window(browser.window_handles[0])"
   ]
  },
  {
   "cell_type": "code",
   "execution_count": null,
   "id": "da6d22bb-d7b7-4cd4-9321-d98976e9d88c",
   "metadata": {},
   "outputs": [],
   "source": [
    "find_seat()"
   ]
  },
  {
   "cell_type": "code",
   "execution_count": 261,
   "id": "b26b310e-84e1-4c0f-a9aa-8413394053d4",
   "metadata": {},
   "outputs": [],
   "source": [
    "#RUN THIS FIRST BEFORE RUNNING THE FOR LOOP\n",
    "login_cwl()\n",
    "# close the tab after you are logged in"
   ]
  },
  {
   "cell_type": "code",
   "execution_count": null,
   "id": "26587c52-793f-48fe-ad05-3f52b7e2167c",
   "metadata": {},
   "outputs": [],
   "source": [
    "import time \n",
    "while True:\n",
    "    time.sleep(wait_time)\n",
    "    browser.switch_to.window(browser.window_handles[0])\n",
    "    browser.refresh();\n",
    "    try:\n",
    "        num_seats = find_seat()\n",
    "        if num_seats > 0:\n",
    "            notify_me('avaliable')\n",
    "            register_course()\n",
    "            if check_status():\n",
    "                if notify:\n",
    "                    notify_me('success')\n",
    "                break\n",
    "            else: \n",
    "                if notify:\n",
    "                    notify_me('failed')\n",
    "    except Exception as ex:\n",
    "        print('sum ting wong')"
   ]
  },
  {
   "cell_type": "code",
   "execution_count": 81,
   "id": "86b09542-3228-477f-a1d2-0dfab01e1f0c",
   "metadata": {},
   "outputs": [],
   "source": [
    "browser.quit()"
   ]
  }
 ],
 "metadata": {
  "kernelspec": {
   "display_name": "Python 3 (ipykernel)",
   "language": "python",
   "name": "python3"
  },
  "language_info": {
   "codemirror_mode": {
    "name": "ipython",
    "version": 3
   },
   "file_extension": ".py",
   "mimetype": "text/x-python",
   "name": "python",
   "nbconvert_exporter": "python",
   "pygments_lexer": "ipython3",
   "version": "3.9.5"
  }
 },
 "nbformat": 4,
 "nbformat_minor": 5
}
